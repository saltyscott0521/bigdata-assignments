{
 "cells": [
  {
   "attachments": {},
   "cell_type": "markdown",
   "metadata": {},
   "source": [
    "# Big Data Midterm\n",
    "## Author: Andrew Scott\n",
    "This notebook will demonstrate the new functionality of the message system which will support file attachment uploads\n"
   ]
  },
  {
   "attachments": {},
   "cell_type": "markdown",
   "metadata": {},
   "source": [
    "First we want to establish a connection to the running Cassandra 3-node cluster and import libraries"
   ]
  },
  {
   "cell_type": "code",
   "execution_count": 1,
   "metadata": {},
   "outputs": [],
   "source": [
    "from cassandra.cluster import Cluster\n",
    "import pandas as pd\n",
    "clstr = Cluster()\n",
    "session = clstr.connect()\n"
   ]
  },
  {
   "attachments": {},
   "cell_type": "markdown",
   "metadata": {},
   "source": [
    "Then we want to create the new keyspace which will be holding the files"
   ]
  },
  {
   "cell_type": "code",
   "execution_count": 8,
   "metadata": {},
   "outputs": [
    {
     "data": {
      "text/plain": [
       "<cassandra.cluster.ResultSet at 0x7fbdb500e9d0>"
      ]
     },
     "execution_count": 8,
     "metadata": {},
     "output_type": "execute_result"
    }
   ],
   "source": [
    "session.execute(\"\"\"\n",
    "    CREATE KEYSPACE IF NOT EXISTS midterm WITH REPLICATION = {\n",
    "        'class':'SimpleStrategy', \n",
    "        'replication_factor':3\n",
    "    }\n",
    "\"\"\")"
   ]
  },
  {
   "attachments": {},
   "cell_type": "markdown",
   "metadata": {},
   "source": [
    "Check to make sure the keyspace was successfully created"
   ]
  },
  {
   "cell_type": "code",
   "execution_count": 11,
   "metadata": {},
   "outputs": [
    {
     "name": "stdout",
     "output_type": "stream",
     "text": [
      "m14\n",
      "midterm\n",
      "system\n",
      "system_auth\n",
      "system_distributed\n",
      "system_schema\n",
      "system_traces\n",
      "system_views\n",
      "system_virtual_schema\n",
      "w04python\n"
     ]
    }
   ],
   "source": [
    "rows = session.execute(\"desc keyspaces\")\n",
    "for row in rows:\n",
    "    print(f\"{row[0]}\")"
   ]
  },
  {
   "attachments": {},
   "cell_type": "markdown",
   "metadata": {},
   "source": [
    "Create table including User ID, Date, File Type, File Blob \n",
    "partition by user_id"
   ]
  },
  {
   "cell_type": "code",
   "execution_count": 13,
   "metadata": {},
   "outputs": [
    {
     "data": {
      "text/plain": [
       "<cassandra.cluster.ResultSet at 0x7fbdadaea610>"
      ]
     },
     "execution_count": 13,
     "metadata": {},
     "output_type": "execute_result"
    }
   ],
   "source": [
    "session.execute(\"\"\"\n",
    "CREATE TABLE IF NOT EXISTS midterm.file (\n",
    "    user_id INT,\n",
    "    date DATE,\n",
    "    file_type TEXT,\n",
    "    file TEXT,\n",
    "    PRIMARY KEY(user_id)\n",
    ");\n",
    "\"\"\")"
   ]
  },
  {
   "attachments": {},
   "cell_type": "markdown",
   "metadata": {},
   "source": [
    "Lets now create a mock attachment file"
   ]
  },
  {
   "cell_type": "code",
   "execution_count": null,
   "metadata": {},
   "outputs": [],
   "source": [
    "testfile1 = ''\n",
    "for i in range (1,100):\n",
    "    testfile1 += f\"\"\"This is test line #{i}\\n\"\"\"\n",
    "\n",
    "with open(\"testfile1.txt:\", \"w\") as fout:\n",
    "    fout.write(testfile1)"
   ]
  },
  {
   "attachments": {},
   "cell_type": "markdown",
   "metadata": {},
   "source": [
    "After creating the file to upload, reimport the file into a text string so that it can be written to the database"
   ]
  },
  {
   "cell_type": "code",
   "execution_count": 64,
   "metadata": {},
   "outputs": [],
   "source": [
    "with open(\"testfile1.txt:\", \"r\") as fin:\n",
    "    file = fin.read()"
   ]
  },
  {
   "attachments": {},
   "cell_type": "markdown",
   "metadata": {},
   "source": [
    "Write a function to demonstrate writing to the database, inserting a new record"
   ]
  },
  {
   "cell_type": "code",
   "execution_count": 73,
   "metadata": {},
   "outputs": [
    {
     "data": {
      "text/plain": [
       "<cassandra.cluster.ResultSet at 0x7fbdb579c650>"
      ]
     },
     "execution_count": 73,
     "metadata": {},
     "output_type": "execute_result"
    }
   ],
   "source": [
    "import datetime\n",
    "import random\n",
    "userid = random.randint(100,999)\n",
    "session.execute(f\"\"\"\n",
    "INSERT INTO midterm.file (user_id, date, file_type, file)\n",
    "VALUES ({userid}, '{datetime.date.today()}', 'file', '{file}');\n",
    "\"\"\")"
   ]
  },
  {
   "attachments": {},
   "cell_type": "markdown",
   "metadata": {},
   "source": [
    "Write a Function to demonstrate querying capability of the system     \n",
    "This queries the latest entry based on the random user id created in the entry  "
   ]
  },
  {
   "cell_type": "code",
   "execution_count": 75,
   "metadata": {},
   "outputs": [
    {
     "name": "stdout",
     "output_type": "stream",
     "text": [
      "user_id: 656, date: 2023-10-04, file_type: This is test line #1\n",
      "This is test line #2\n",
      "This is test line #3\n",
      "This is test line #4\n",
      "This is test line #5\n",
      "This is test line #6\n",
      "This is test line #7\n",
      "This is test line #8\n",
      "This is test line #9\n",
      "This is test line #10\n",
      "This is test line #11\n",
      "This is test line #12\n",
      "This is test line #13\n",
      "This is test line #14\n",
      "This is test line #15\n",
      "This is test line #16\n",
      "This is test line #17\n",
      "This is test line #18\n",
      "This is test line #19\n",
      "This is test line #20\n",
      "This is test line #21\n",
      "This is test line #22\n",
      "This is test line #23\n",
      "This is test line #24\n",
      "This is test line #25\n",
      "This is test line #26\n",
      "This is test line #27\n",
      "This is test line #28\n",
      "This is test line #29\n",
      "This is test line #30\n",
      "This is test line #31\n",
      "This is test line #32\n",
      "This is test line #33\n",
      "This is test line #34\n",
      "This is test line #35\n",
      "This is test line #36\n",
      "This is test line #37\n",
      "This is test line #38\n",
      "This is test line #39\n",
      "This is test line #40\n",
      "This is test line #41\n",
      "This is test line #42\n",
      "This is test line #43\n",
      "This is test line #44\n",
      "This is test line #45\n",
      "This is test line #46\n",
      "This is test line #47\n",
      "This is test line #48\n",
      "This is test line #49\n",
      "This is test line #50\n",
      "This is test line #51\n",
      "This is test line #52\n",
      "This is test line #53\n",
      "This is test line #54\n",
      "This is test line #55\n",
      "This is test line #56\n",
      "This is test line #57\n",
      "This is test line #58\n",
      "This is test line #59\n",
      "This is test line #60\n",
      "This is test line #61\n",
      "This is test line #62\n",
      "This is test line #63\n",
      "This is test line #64\n",
      "This is test line #65\n",
      "This is test line #66\n",
      "This is test line #67\n",
      "This is test line #68\n",
      "This is test line #69\n",
      "This is test line #70\n",
      "This is test line #71\n",
      "This is test line #72\n",
      "This is test line #73\n",
      "This is test line #74\n",
      "This is test line #75\n",
      "This is test line #76\n",
      "This is test line #77\n",
      "This is test line #78\n",
      "This is test line #79\n",
      "This is test line #80\n",
      "This is test line #81\n",
      "This is test line #82\n",
      "This is test line #83\n",
      "This is test line #84\n",
      "This is test line #85\n",
      "This is test line #86\n",
      "This is test line #87\n",
      "This is test line #88\n",
      "This is test line #89\n",
      "This is test line #90\n",
      "This is test line #91\n",
      "This is test line #92\n",
      "This is test line #93\n",
      "This is test line #94\n",
      "This is test line #95\n",
      "This is test line #96\n",
      "This is test line #97\n",
      "This is test line #98\n",
      "This is test line #99\n",
      ", file: 656\n"
     ]
    }
   ],
   "source": [
    "rows = session.execute(f\"SELECT * FROM midterm.file where user_id = {userid}\")\n",
    "for row in rows:\n",
    "    print(f\"user_id: {row[0]}, date: {row[1]}, file_type: {row[2]}, file: {row[0]}\")"
   ]
  },
  {
   "attachments": {},
   "cell_type": "markdown",
   "metadata": {},
   "source": [
    "Write a function to delete a record"
   ]
  },
  {
   "cell_type": "code",
   "execution_count": 76,
   "metadata": {},
   "outputs": [
    {
     "name": "stdout",
     "output_type": "stream",
     "text": [
      "2\n",
      "977\n",
      "101\n",
      "159\n"
     ]
    }
   ],
   "source": [
    "session.execute(f\"\"\"\n",
    "DELETE FROM midterm.file WHERE user_id = {userid};\n",
    "\"\"\")\n",
    "rows = session.execute(\"SELECT * FROM midterm.file\")\n",
    "for row in rows:\n",
    "    print(f\"{row[0]}\")  "
   ]
  }
 ],
 "metadata": {
  "kernelspec": {
   "display_name": "bd",
   "language": "python",
   "name": "python3"
  },
  "language_info": {
   "codemirror_mode": {
    "name": "ipython",
    "version": 3
   },
   "file_extension": ".py",
   "mimetype": "text/x-python",
   "name": "python",
   "nbconvert_exporter": "python",
   "pygments_lexer": "ipython3",
   "version": "3.11.4"
  },
  "orig_nbformat": 4
 },
 "nbformat": 4,
 "nbformat_minor": 2
}
