{
 "cells": [
  {
   "cell_type": "code",
   "execution_count": 78,
   "metadata": {},
   "outputs": [],
   "source": [
    "from cassandra.cluster import Cluster\n",
    "import pandas as pd\n",
    "clstr = Cluster()\n",
    "session = clstr.connect()\n"
   ]
  },
  {
   "attachments": {},
   "cell_type": "markdown",
   "metadata": {},
   "source": [
    "Drop table in case we are replaying this code"
   ]
  },
  {
   "cell_type": "code",
   "execution_count": 81,
   "metadata": {},
   "outputs": [
    {
     "data": {
      "text/plain": [
       "<cassandra.cluster.ResultSet at 0x7fa11c73c7d0>"
      ]
     },
     "execution_count": 81,
     "metadata": {},
     "output_type": "execute_result"
    }
   ],
   "source": [
    "session.execute(\"DROP KEYSPACE IF EXISTS m14\")"
   ]
  },
  {
   "attachments": {},
   "cell_type": "markdown",
   "metadata": {},
   "source": [
    "Print current keyspaces"
   ]
  },
  {
   "cell_type": "code",
   "execution_count": 82,
   "metadata": {},
   "outputs": [
    {
     "name": "stdout",
     "output_type": "stream",
     "text": [
      "system\n",
      "system_auth\n",
      "system_distributed\n",
      "system_schema\n",
      "system_traces\n",
      "system_views\n",
      "system_virtual_schema\n",
      "w04python\n"
     ]
    }
   ],
   "source": [
    "response = session.execute(\"desc keyspaces\")\n",
    "for i in response:\n",
    "    print(i[0])"
   ]
  },
  {
   "attachments": {},
   "cell_type": "markdown",
   "metadata": {},
   "source": [
    "5. Create Keyspace called m14"
   ]
  },
  {
   "cell_type": "code",
   "execution_count": 83,
   "metadata": {},
   "outputs": [
    {
     "data": {
      "text/plain": [
       "<cassandra.cluster.ResultSet at 0x7fa11c7f4410>"
      ]
     },
     "execution_count": 83,
     "metadata": {},
     "output_type": "execute_result"
    }
   ],
   "source": [
    "session.execute(\"CREATE KEYSPACE IF NOT EXISTS M14 WITH REPLICATION = {'class':'SimpleStrategy','replication_factor':3}\")"
   ]
  },
  {
   "attachments": {},
   "cell_type": "markdown",
   "metadata": {},
   "source": [
    "6. Create Table in keyspace for inventory information"
   ]
  },
  {
   "cell_type": "code",
   "execution_count": 84,
   "metadata": {},
   "outputs": [
    {
     "data": {
      "text/plain": [
       "<cassandra.cluster.ResultSet at 0x7fa0e98199d0>"
      ]
     },
     "execution_count": 84,
     "metadata": {},
     "output_type": "execute_result"
    }
   ],
   "source": [
    "session.execute(\"\"\"\n",
    "CREATE TABLE IF NOT EXISTS m14.inventory (\n",
    "SKU TEXT,\n",
    "NAME TEXT,\n",
    "DESCRIPTION TEXT,\n",
    "WAREHOUSE_NUM INT,\n",
    "PRIMARY KEY (SKU,WAREHOUSE_NUM)\n",
    ")\n",
    "\"\"\")"
   ]
  },
  {
   "attachments": {},
   "cell_type": "markdown",
   "metadata": {},
   "source": [
    "Create an inventory example data set. A list of values to include in insert statements for each product."
   ]
  },
  {
   "cell_type": "code",
   "execution_count": 85,
   "metadata": {},
   "outputs": [
    {
     "name": "stdout",
     "output_type": "stream",
     "text": [
      "('87873', 'STEAK', 'Good source of protein', 50)\n",
      "('54546', 'BANANAS', 'Yellow and yummy', 40)\n",
      "('34324', 'MILK', 'Dairy Drink', 50)\n",
      "('123236', 'EGGS', 'Comes from Chickens', 30)\n",
      "('9879876', 'BREAD', 'Used for Sandwhiches', 10)\n"
     ]
    }
   ],
   "source": [
    "inventory = [\n",
    "            \"('87873', 'STEAK', 'Good source of protein', 50)\",\n",
    "            \"('54546', 'BANANAS', 'Yellow and yummy', 40)\",\n",
    "            \"('34324', 'MILK', 'Dairy Drink', 50)\",\n",
    "            \"('123236', 'EGGS', 'Comes from Chickens', 30)\",\n",
    "            \"('9879876', 'BREAD', 'Used for Sandwhiches', 10)\"\n",
    "]\n",
    "for i in range(len(inventory)):\n",
    "    print(inventory[i])"
   ]
  },
  {
   "attachments": {},
   "cell_type": "markdown",
   "metadata": {},
   "source": [
    "7. Populate several rows of data into your table. \n",
    "--This will insert the rows into the table and print copy of code used"
   ]
  },
  {
   "cell_type": "code",
   "execution_count": 86,
   "metadata": {},
   "outputs": [
    {
     "name": "stdout",
     "output_type": "stream",
     "text": [
      "\n",
      "INSERT INTO m14.inventory (sku, name, description, warehouse_num)\n",
      "VALUES ('87873', 'STEAK', 'Good source of protein', 50);\n",
      "\n",
      "INSERT INTO m14.inventory (sku, name, description, warehouse_num)\n",
      "VALUES ('54546', 'BANANAS', 'Yellow and yummy', 40);\n",
      "\n",
      "INSERT INTO m14.inventory (sku, name, description, warehouse_num)\n",
      "VALUES ('34324', 'MILK', 'Dairy Drink', 50);\n",
      "\n",
      "INSERT INTO m14.inventory (sku, name, description, warehouse_num)\n",
      "VALUES ('123236', 'EGGS', 'Comes from Chickens', 30);\n",
      "\n",
      "INSERT INTO m14.inventory (sku, name, description, warehouse_num)\n",
      "VALUES ('9879876', 'BREAD', 'Used for Sandwhiches', 10);\n"
     ]
    }
   ],
   "source": [
    "for x in range(len(inventory)):\n",
    "    print(\"\"\"\n",
    "INSERT INTO m14.inventory (sku, name, description, warehouse_num)\n",
    "VALUES \"\"\"+inventory[x]+\";\")\n",
    "    \n",
    "    session.execute(\"\"\"\n",
    "INSERT INTO m14.inventory (sku, name, description, warehouse_num)\n",
    "VALUES \"\"\"+inventory[x]+\";\")\n",
    "    \n"
   ]
  },
  {
   "attachments": {},
   "cell_type": "markdown",
   "metadata": {},
   "source": [
    "Ensure data is in the table"
   ]
  },
  {
   "cell_type": "code",
   "execution_count": 87,
   "metadata": {},
   "outputs": [
    {
     "name": "stdout",
     "output_type": "stream",
     "text": [
      "Row(sku='54546', warehouse_num=40, description='Yellow and yummy', name='BANANAS')\n",
      "Row(sku='34324', warehouse_num=50, description='Dairy Drink', name='MILK')\n",
      "Row(sku='9879876', warehouse_num=10, description='Used for Sandwhiches', name='BREAD')\n",
      "Row(sku='123236', warehouse_num=30, description='Comes from Chickens', name='EGGS')\n",
      "Row(sku='87873', warehouse_num=50, description='Good source of protein', name='STEAK')\n"
     ]
    }
   ],
   "source": [
    "rows = session.execute(\"select * from m14.inventory;\")\n",
    "for i in rows:\n",
    "    print(i)"
   ]
  },
  {
   "attachments": {},
   "cell_type": "markdown",
   "metadata": {},
   "source": [
    "8. Create index on warehouse_num"
   ]
  },
  {
   "cell_type": "code",
   "execution_count": 88,
   "metadata": {},
   "outputs": [
    {
     "data": {
      "text/plain": [
       "<cassandra.cluster.ResultSet at 0x7fa0e9818450>"
      ]
     },
     "execution_count": 88,
     "metadata": {},
     "output_type": "execute_result"
    }
   ],
   "source": [
    "session.execute(\"\"\"\n",
    "CREATE INDEX IF NOT EXISTS warehouse_index\n",
    "ON m14.inventory(warehouse_num);\n",
    "\"\"\")"
   ]
  },
  {
   "attachments": {},
   "cell_type": "markdown",
   "metadata": {},
   "source": [
    "9. Search for all products in a given location/warehouse"
   ]
  },
  {
   "cell_type": "code",
   "execution_count": 89,
   "metadata": {},
   "outputs": [
    {
     "name": "stdout",
     "output_type": "stream",
     "text": [
      "Row(sku='34324', warehouse_num=50, description='Dairy Drink', name='MILK')\n",
      "Row(sku='87873', warehouse_num=50, description='Good source of protein', name='STEAK')\n"
     ]
    }
   ],
   "source": [
    "rows = session.execute(\"SELECT * FROM m14.inventory WHERE warehouse_num = 50;\")\n",
    "for i in rows:\n",
    "    print(i)"
   ]
  }
 ],
 "metadata": {
  "kernelspec": {
   "display_name": "bd",
   "language": "python",
   "name": "python3"
  },
  "language_info": {
   "codemirror_mode": {
    "name": "ipython",
    "version": 3
   },
   "file_extension": ".py",
   "mimetype": "text/x-python",
   "name": "python",
   "nbconvert_exporter": "python",
   "pygments_lexer": "ipython3",
   "version": "3.11.4"
  },
  "orig_nbformat": 4
 },
 "nbformat": 4,
 "nbformat_minor": 2
}
